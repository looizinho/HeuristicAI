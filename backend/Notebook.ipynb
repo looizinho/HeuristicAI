{
 "cells": [
  {
   "cell_type": "markdown",
   "id": "9679917f57c5afd7",
   "metadata": {},
   "source": [
    "# HeusristicAI Python Backend\n",
    "> By Luizinho & Wilker"
   ]
  },
  {
   "cell_type": "markdown",
   "id": "bd6458eeead191c9",
   "metadata": {},
   "source": [
    "## Função principal"
   ]
  },
  {
   "cell_type": "code",
   "id": "b3000691a9952e52",
   "metadata": {},
   "source": [
    "from app import connect"
   ],
   "outputs": [],
   "execution_count": null
  },
  {
   "cell_type": "code",
   "id": "f3c14944b06239a0",
   "metadata": {},
   "source": [
    "  await connect()"
   ],
   "outputs": [],
   "execution_count": null
  },
  {
   "cell_type": "markdown",
   "id": "46928952d64eb461",
   "metadata": {},
   "source": [
    "## Conectar ao MongoDB"
   ]
  },
  {
   "cell_type": "code",
   "id": "ead2688a11944de",
   "metadata": {},
   "source": [
    "import motor.motor_asyncio\n",
    "from app import mongo_connect\n"
   ],
   "outputs": [],
   "execution_count": null
  },
  {
   "cell_type": "code",
   "id": "721aa9b6df4894b7",
   "metadata": {},
   "source": [
    "  async def mongo_connect():\n",
    "    mongo_client = motor.motor_asyncio.AsyncIOMotorClient('mongodb://localhost:27017')\n",
    "    # db = mongo_client['arena']\n",
    "    print('Conectado ao MongoDB')\n",
    "  await mongo_connect()"
   ],
   "outputs": [],
   "execution_count": null
  },
  {
   "cell_type": "markdown",
   "id": "c5a8d84ec1a11bf0",
   "metadata": {},
   "source": [
    "  ## Conectar ao WebSocket"
   ]
  },
  {
   "cell_type": "code",
   "id": "f6e380e341a8d0e1",
   "metadata": {},
   "source": [
    "import asyncio\n",
    "import aiohttp"
   ],
   "outputs": [],
   "execution_count": null
  },
  {
   "cell_type": "code",
   "id": "9beb7d12b0db50f",
   "metadata": {},
   "source": [
    "session = aiohttp.ClientSession()\n",
    "ws = await session.ws_connect('ws://localhost:8080/api/v1')\n",
    "print('Conectado ao WebSocket')"
   ],
   "outputs": [],
   "execution_count": null
  },
  {
   "cell_type": "markdown",
   "id": "c757500f1d17fff3",
   "metadata": {},
   "source": [
    "## Exibir _callback_ de conexão"
   ]
  },
  {
   "cell_type": "code",
   "id": "40cafa83aee05a4f",
   "metadata": {},
   "source": [
    "import aiohttp\n",
    "import asyncio\n",
    "import json\n",
    "\n",
    "\n",
    "async def get_composition():\n",
    "  async with aiohttp.ClientSession() as session:\n",
    "    async with session.get('http://localhost:8080/api/v1/composition') as resp:\n",
    "      data = await resp.json()\n",
    "      print(json.dumps(data, indent=2))\n",
    "\n",
    "\n",
    "await get_composition()"
   ],
   "outputs": [],
   "execution_count": null
  },
  {
   "metadata": {},
   "cell_type": "markdown",
   "source": [
    "## Subscrição\n",
    "_subscreve-se no array passado_"
   ],
   "id": "a3f654d5e5a4bc1d"
  },
  {
   "metadata": {
    "ExecuteTime": {
     "end_time": "2025-07-01T15:43:42.243873Z",
     "start_time": "2025-07-01T15:43:41.953394Z"
    }
   },
   "cell_type": "code",
   "source": "",
   "id": "8dbb9ecf455266ed",
   "outputs": [
    {
     "ename": "RuntimeError",
     "evalue": "asyncio.run() cannot be called from a running event loop",
     "output_type": "error",
     "traceback": [
      "\u001B[31m---------------------------------------------------------------------------\u001B[39m",
      "\u001B[31mRuntimeError\u001B[39m                              Traceback (most recent call last)",
      "\u001B[36mCell\u001B[39m\u001B[36m \u001B[39m\u001B[32mIn[1]\u001B[39m\u001B[32m, line 7\u001B[39m\n\u001B[32m      5\u001B[39m   \u001B[38;5;28;01mawait\u001B[39;00m subscribe_all_paths([\u001B[33m'\u001B[39m\u001B[33mlayers\u001B[39m\u001B[33m'\u001B[39m], ws)\n\u001B[32m      6\u001B[39m   \u001B[38;5;28;01mawait\u001B[39;00m session.close()  \u001B[38;5;66;03m# <- fecha a sessão manualmente\u001B[39;00m\n\u001B[32m----> \u001B[39m\u001B[32m7\u001B[39m \u001B[43masyncio\u001B[49m\u001B[43m.\u001B[49m\u001B[43mrun\u001B[49m\u001B[43m(\u001B[49m\u001B[43mmain\u001B[49m\u001B[43m(\u001B[49m\u001B[43m)\u001B[49m\u001B[43m)\u001B[49m\n",
      "\u001B[36mFile \u001B[39m\u001B[32m~/.local/share/mise/installs/python/3.11.13/lib/python3.11/asyncio/runners.py:186\u001B[39m, in \u001B[36mrun\u001B[39m\u001B[34m(main, debug)\u001B[39m\n\u001B[32m    161\u001B[39m \u001B[38;5;250m\u001B[39m\u001B[33;03m\"\"\"Execute the coroutine and return the result.\u001B[39;00m\n\u001B[32m    162\u001B[39m \n\u001B[32m    163\u001B[39m \u001B[33;03mThis function runs the passed coroutine, taking care of\u001B[39;00m\n\u001B[32m   (...)\u001B[39m\u001B[32m    182\u001B[39m \u001B[33;03m    asyncio.run(main())\u001B[39;00m\n\u001B[32m    183\u001B[39m \u001B[33;03m\"\"\"\u001B[39;00m\n\u001B[32m    184\u001B[39m \u001B[38;5;28;01mif\u001B[39;00m events._get_running_loop() \u001B[38;5;129;01mis\u001B[39;00m \u001B[38;5;129;01mnot\u001B[39;00m \u001B[38;5;28;01mNone\u001B[39;00m:\n\u001B[32m    185\u001B[39m     \u001B[38;5;66;03m# fail fast with short traceback\u001B[39;00m\n\u001B[32m--> \u001B[39m\u001B[32m186\u001B[39m     \u001B[38;5;28;01mraise\u001B[39;00m \u001B[38;5;167;01mRuntimeError\u001B[39;00m(\n\u001B[32m    187\u001B[39m         \u001B[33m\"\u001B[39m\u001B[33masyncio.run() cannot be called from a running event loop\u001B[39m\u001B[33m\"\u001B[39m)\n\u001B[32m    189\u001B[39m \u001B[38;5;28;01mwith\u001B[39;00m Runner(debug=debug) \u001B[38;5;28;01mas\u001B[39;00m runner:\n\u001B[32m    190\u001B[39m     \u001B[38;5;28;01mreturn\u001B[39;00m runner.run(main)\n",
      "\u001B[31mRuntimeError\u001B[39m: asyncio.run() cannot be called from a running event loop"
     ]
    }
   ],
   "execution_count": null
  }
 ],
 "metadata": {
  "kernelspec": {
   "display_name": "Python 3 (ipykernel)",
   "language": "python",
   "name": "python3"
  },
  "language_info": {
   "codemirror_mode": {
    "name": "ipython",
    "version": 3
   },
   "file_extension": ".py",
   "mimetype": "text/x-python",
   "name": "python",
   "nbconvert_exporter": "python",
   "pygments_lexer": "ipython3",
   "version": "3.11.13"
  }
 },
 "nbformat": 4,
 "nbformat_minor": 5
}
